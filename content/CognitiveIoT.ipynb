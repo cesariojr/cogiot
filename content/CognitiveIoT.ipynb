{
 "cells": [
  {
   "cell_type": "code",
   "execution_count": null,
   "metadata": {},
   "outputs": [],
   "source": [
    "import pixiedust\n",
    "from pyspark.sql import SparkSession\n",
    "\n",
    "pixiedust.installPackage(\"org.apache.bahir:spark-sql-cloudant_2.11:0\")\n",
    "spark = SparkSession.builder.getOrCreate()"
   ]
  },
  {
   "cell_type": "code",
   "execution_count": null,
   "metadata": {},
   "outputs": [],
   "source": [
    "def readDataFrameFromCloudant(host,user,pw,database):\n",
    "\n",
    "    cloudantdata=spark.read.format(\"org.apache.bahir.cloudant\"). \\\n",
    "    option(\"cloudant.host\",host). \\\n",
    "    option(\"cloudant.username\", user). \\\n",
    "    option(\"cloudant.password\", pw). \\\n",
    "    load(database)\n",
    "\n",
    "    cloudantdata.createOrReplaceTempView(\"washing\")\n",
    "    #spark.sql(\"SELECT * from washing\").show()\n",
    "    return cloudantdata"
   ]
  },
  {
   "cell_type": "code",
   "execution_count": null,
   "metadata": {},
   "outputs": [],
   "source": [
    "#TODO Please provide your Cloudant credentials here\n",
    "hostname = \"pleasePutYourCredentialsHere\"\n",
    "user = \"pleasePutYourCredentialsHere\"\n",
    "pw = \"pleasePutYourCredentialsHere\"\n",
    "database = \"washing\" #as long as you didn't change this in the NodeRED flow the database name stays the same\n",
    "cloudantdata=readDataFrameFromCloudant(hostname, user, pw, database)"
   ]
  },
  {
   "cell_type": "code",
   "execution_count": null,
   "metadata": {},
   "outputs": [],
   "source": [
    "#spark.sql(\"select avg(voltage), std(voltage), max(voltage) from washing\").show()"
   ]
  },
  {
   "cell_type": "code",
   "execution_count": null,
   "metadata": {},
   "outputs": [],
   "source": [
    "df = spark.sql(\"\"\"\n",
    "select mean(voltage) as mean, std(voltage) as std from (\n",
    "    SELECT ROW_NUMBER() OVER (ORDER BY ts desc) AS row, * FROM washing where voltage is not null\n",
    ") where\n",
    "row < 30\n",
    "\"\"\")\n",
    "               \n",
    "#df.show()\n",
    "mean = df.first().mean\n",
    "std = df.first().std\n",
    "#spark.sql(\"SELECT * from (select abs( ({0}-voltage)/({1}+0.0001) ) as zscore, voltage,ROW_NUMBER() OVER (ORDER BY ts desc) AS row FROM washing where voltage is not null order by ts desc) where row < 20\".format(mean,std)).show()\n",
    "df = spark.sql(\"SELECT mean(zscore) as avgzscore from (select abs( ({0}-voltage)/({1}+0.0001) ) as zscore, voltage,ROW_NUMBER() OVER (ORDER BY ts desc) AS row FROM washing where voltage is not null order by ts desc) where row < 20\".format(mean,std))\n",
    "df.show()"
   ]
  },
  {
   "cell_type": "code",
   "execution_count": null,
   "metadata": {},
   "outputs": [],
   "source": [
    "zscore = df.first().avgzscore"
   ]
  },
  {
   "cell_type": "code",
   "execution_count": null,
   "metadata": {},
   "outputs": [],
   "source": [
    "import requests\n",
    "if (zscore > 0.5):\n",
    "    r = requests.get(\"https://1234thisismyname.mybluemix.net/edgemodelupdate?command=emergencyshutdown\")\n",
    "    r.status_code"
   ]
  }
 ],
 "metadata": {
  "kernelspec": {
   "display_name": "Python 3.6 with Spark",
   "language": "python3",
   "name": "python36"
  },
  "language_info": {
   "codemirror_mode": {
    "name": "ipython",
    "version": 3
   },
   "file_extension": ".py",
   "mimetype": "text/x-python",
   "name": "python",
   "nbconvert_exporter": "python",
   "pygments_lexer": "ipython3",
   "version": "3.6.8"
  }
 },
 "nbformat": 4,
 "nbformat_minor": 1
}
